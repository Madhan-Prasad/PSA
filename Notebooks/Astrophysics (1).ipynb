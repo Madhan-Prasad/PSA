{
  "nbformat": 4,
  "nbformat_minor": 0,
  "metadata": {
    "colab": {
      "provenance": []
    },
    "kernelspec": {
      "name": "python3",
      "display_name": "Python 3"
    },
    "language_info": {
      "name": "python"
    }
  },
  "cells": [
    {
      "cell_type": "code",
      "execution_count": null,
      "metadata": {
        "id": "y5hR6GLmKq9L"
      },
      "outputs": [],
      "source": []
    },
    {
      "cell_type": "code",
      "source": [],
      "metadata": {
        "id": "vnGUsCx8PSCj"
      },
      "execution_count": null,
      "outputs": []
    },
    {
      "cell_type": "markdown",
      "source": [
        "The class for the rocket\n"
      ],
      "metadata": {
        "id": "Q2j91z-VPSpG"
      }
    },
    {
      "cell_type": "code",
      "source": [
        "class Rocket():\n",
        "  pass"
      ],
      "metadata": {
        "id": "QFkGCEoxPX25"
      },
      "execution_count": null,
      "outputs": []
    },
    {
      "cell_type": "markdown",
      "source": [
        "### add x and y coordinates and set them to zero"
      ],
      "metadata": {
        "id": "ob2PFYxYPrtn"
      }
    },
    {
      "cell_type": "code",
      "source": [
        "class Rocket():\n",
        "  def __init__(self):\n",
        "    self.x=0\n",
        "    self.y=0\n"
      ],
      "metadata": {
        "id": "KlHfl7AGPv4l"
      },
      "execution_count": 13,
      "outputs": []
    },
    {
      "cell_type": "code",
      "source": [
        "rocket1 = Rocket()"
      ],
      "metadata": {
        "id": "2sAsNwsVQYfq"
      },
      "execution_count": 2,
      "outputs": []
    },
    {
      "cell_type": "code",
      "source": [
        "print(f\"the X coordinates for the rocket {rocket1.x}\")"
      ],
      "metadata": {
        "colab": {
          "base_uri": "https://localhost:8080/"
        },
        "id": "cCPDEgeDQrjP",
        "outputId": "19213ec1-4309-4f6e-83ae-efd0bf98375f"
      },
      "execution_count": 7,
      "outputs": [
        {
          "output_type": "stream",
          "name": "stdout",
          "text": [
            "the X coordinates for the rocket 0\n"
          ]
        }
      ]
    },
    {
      "cell_type": "markdown",
      "source": [
        "### Add a method that will allow your rocket to move up"
      ],
      "metadata": {
        "id": "brKJsIBjRhA1"
      }
    },
    {
      "cell_type": "code",
      "source": [
        "class Rocket():\n",
        "  def __init__(self):\n",
        "    self.x=0\n",
        "    self.y=0\n",
        "  def move_up(self):\n",
        "    self.y = self.y + 1"
      ],
      "metadata": {
        "id": "0dqMQoxZRmDm"
      },
      "execution_count": 16,
      "outputs": []
    },
    {
      "cell_type": "code",
      "source": [
        "orion = Rocket()\n",
        "print (f\"Current position of Orion{(orion.x,orion.y)}\")\n",
        "\n",
        "orion.move_up()\n",
        "print (f\"Updated position of Orion{(orion.x,orion.y)}\")\n",
        "\n",
        "orion.move_up()\n",
        "print (f\"Updated 2nd position of Orion{(orion.x,orion.y)}\")"
      ],
      "metadata": {
        "colab": {
          "base_uri": "https://localhost:8080/"
        },
        "id": "r8WjCw4KSGPc",
        "outputId": "d8d19f67-bf74-4d50-f709-2c19701e640c"
      },
      "execution_count": 17,
      "outputs": [
        {
          "output_type": "stream",
          "name": "stdout",
          "text": [
            "Current position of Orion(0, 0)\n",
            "Updated position of Orion(0, 1)\n",
            "Updated 2nd position of Orion(0, 2)\n"
          ]
        }
      ]
    },
    {
      "cell_type": "markdown",
      "source": [
        "### build more rocket objects"
      ],
      "metadata": {
        "id": "JkPMZ9VdUYle"
      }
    },
    {
      "cell_type": "code",
      "source": [
        "mark = Rocket()\n",
        "tars = Rocket()"
      ],
      "metadata": {
        "id": "ql3MXBvoUX_c"
      },
      "execution_count": 18,
      "outputs": []
    },
    {
      "cell_type": "code",
      "source": [
        "for obj in (orion,mark,tars):\n",
        "  print(obj)"
      ],
      "metadata": {
        "colab": {
          "base_uri": "https://localhost:8080/"
        },
        "id": "zmp05nAyUXlq",
        "outputId": "86ee916d-46e7-4d68-bed2-d27994f1bb43"
      },
      "execution_count": 23,
      "outputs": [
        {
          "output_type": "stream",
          "name": "stdout",
          "text": [
            "<__main__.Rocket object at 0x7cb881f22680>\n",
            "<__main__.Rocket object at 0x7cb86d9f9660>\n",
            "<__main__.Rocket object at 0x7cb86d9fbd30>\n"
          ]
        }
      ]
    },
    {
      "source": [
        "for obj, name in zip((orion, mark, tars), (\"orion\", \"mark\", \"tars\")):\n",
        "    print(f\"The {name} is at {obj.x, obj.y}\")"
      ],
      "cell_type": "code",
      "metadata": {
        "colab": {
          "base_uri": "https://localhost:8080/"
        },
        "id": "V8kXQaOFXM9d",
        "outputId": "6a49d117-9786-4b78-bb24-78314b1ef939"
      },
      "execution_count": 28,
      "outputs": [
        {
          "output_type": "stream",
          "name": "stdout",
          "text": [
            "The orion is at (0, 2)\n",
            "The mark is at (0, 0)\n",
            "The tars is at (0, 0)\n"
          ]
        }
      ]
    },
    {
      "cell_type": "code",
      "source": [
        "mark.move_up()\n",
        "for obj, name in zip((orion, mark, tars), (\"orion\", \"mark\", \"tars\")):\n",
        "    print(f\"The {name} is at {obj.x, obj.y}\")\n"
      ],
      "metadata": {
        "colab": {
          "base_uri": "https://localhost:8080/"
        },
        "id": "fv4SuoLCVH3t",
        "outputId": "a43254eb-8f89-4a2e-ae68-bbddd1adaab1"
      },
      "execution_count": 29,
      "outputs": [
        {
          "output_type": "stream",
          "name": "stdout",
          "text": [
            "The orion is at (0, 2)\n",
            "The mark is at (0, 1)\n",
            "The tars is at (0, 0)\n"
          ]
        }
      ]
    },
    {
      "cell_type": "markdown",
      "source": [
        "### customising the Rocket Class"
      ],
      "metadata": {
        "id": "AdfJMM0IX7ru"
      }
    },
    {
      "cell_type": "code",
      "source": [
        "class Rocket():\n",
        "  def __init__(self, x=0, y=0):\n",
        "    self.x= x\n",
        "    self.y= y\n",
        "\n",
        "  def move_rocket(self,x_incerment , y_increment):\n",
        "    self.y += y_increment\n",
        "    self.x += x_incerment"
      ],
      "metadata": {
        "id": "fYkLf88wXmvS"
      },
      "execution_count": 39,
      "outputs": []
    },
    {
      "cell_type": "code",
      "source": [
        "rocket2 = Rocket(10,0)\n",
        "print (f\"{rocket2.x,rocket2.y}\")"
      ],
      "metadata": {
        "colab": {
          "base_uri": "https://localhost:8080/"
        },
        "id": "rpSZiq4qYz6y",
        "outputId": "bb806cdf-97d1-44ab-fa4b-47972d32b5b5"
      },
      "execution_count": 33,
      "outputs": [
        {
          "output_type": "stream",
          "name": "stdout",
          "text": [
            "(10, 0)\n"
          ]
        }
      ]
    },
    {
      "cell_type": "code",
      "source": [
        "class Rocket:\n",
        "    def __init__(self, x=0, y=0):\n",
        "        self.x = x\n",
        "        self.y = y\n",
        "\n",
        "    def move(self, x_increment=0, y_increment=1):  # Rename the function to 'move'\n",
        "        self.y += y_increment\n",
        "        self.x += x_increment\n",
        "\n",
        "rocket2 = Rocket(10, 0)\n",
        "print(f\"{rocket2.x, rocket2.y}\")\n",
        "\n",
        "rocket3 = Rocket(10, 20)\n",
        "print(f\"{rocket3.x, rocket3.y}\")\n",
        "\n",
        "rocket2.move(0,100)  # Call the renamed function\n",
        "print(f\"{rocket2.x, rocket2.y}\")"
      ],
      "metadata": {
        "colab": {
          "base_uri": "https://localhost:8080/"
        },
        "id": "A9FwYO7fa8wQ",
        "outputId": "d0842d5d-068f-40c5-9f2f-40119420aafd"
      },
      "execution_count": 49,
      "outputs": [
        {
          "output_type": "stream",
          "name": "stdout",
          "text": [
            "(10, 0)\n",
            "(10, 20)\n",
            "(10, 100)\n"
          ]
        }
      ]
    },
    {
      "cell_type": "code",
      "source": [
        "rocket3 = Rocket(10,20)\n",
        "print (f\"{rocket3.x,rocket3.y}\")"
      ],
      "metadata": {
        "colab": {
          "base_uri": "https://localhost:8080/"
        },
        "id": "i9oLcF46Y_3B",
        "outputId": "4f211a78-fde0-4167-c0f0-1af9465fd10b"
      },
      "execution_count": 34,
      "outputs": [
        {
          "output_type": "stream",
          "name": "stdout",
          "text": [
            "(10, 20)\n"
          ]
        }
      ]
    },
    {
      "cell_type": "code",
      "source": [
        "rocket3.move(-50,-5)  # Call the renamed function\n",
        "print(f\"{rocket3.x, rocket3.y}\")"
      ],
      "metadata": {
        "colab": {
          "base_uri": "https://localhost:8080/"
        },
        "id": "_12kPpO5bEjF",
        "outputId": "99819ee4-62dd-476a-d11a-a3dc4dc18519"
      },
      "execution_count": 48,
      "outputs": [
        {
          "output_type": "stream",
          "name": "stdout",
          "text": [
            "(-100, 15)\n"
          ]
        }
      ]
    },
    {
      "cell_type": "code",
      "source": [],
      "metadata": {
        "id": "nB0Zm18LbaVs"
      },
      "execution_count": null,
      "outputs": []
    },
    {
      "cell_type": "markdown",
      "source": [
        "### adding a new method for the class"
      ],
      "metadata": {
        "id": "UWXZaNF9cTZi"
      }
    },
    {
      "cell_type": "code",
      "source": [],
      "metadata": {
        "id": "SdzTht0HcXfc"
      },
      "execution_count": null,
      "outputs": []
    },
    {
      "cell_type": "code",
      "source": [
        "class Rocket:\n",
        "    def __init__(self, x=0, y=0):\n",
        "        self.x = x\n",
        "        self.y = y\n",
        "\n",
        "    def move(self, x_increment=0, y_increment=1):  # Rename the function to 'move'\n",
        "        self.y += y_increment\n",
        "        self.x += x_increment\n",
        "\n",
        "rocket2 = Rocket(10, 0)\n",
        "print(f\"{rocket2.x, rocket2.y}\")\n",
        "\n",
        "rocket3 = Rocket(10, 20)\n",
        "print(f\"{rocket3.x, rocket3.y}\")\n",
        "\n",
        "rocket2.move(0,100)  # Call the renamed function\n",
        "print(f\"{rocket2.x, rocket2.y}\")\n",
        "\n",
        "def get_distance(self,other_rocket):\n",
        "  x_diff = self.x - other_rocket.x\n",
        "  y_diff = self.y - other_rocket.y\n",
        "  distance = (x_diff**2 + y_diff**2)**0.5\n",
        "  return round(distance,3)"
      ],
      "metadata": {
        "colab": {
          "base_uri": "https://localhost:8080/"
        },
        "outputId": "ee3ceb16-2352-45b7-b295-fda303a2e944",
        "id": "Uw1oLKjQcXzD"
      },
      "execution_count": 50,
      "outputs": [
        {
          "output_type": "stream",
          "name": "stdout",
          "text": [
            "(10, 0)\n",
            "(10, 20)\n",
            "(10, 100)\n"
          ]
        }
      ]
    },
    {
      "cell_type": "code",
      "source": [],
      "metadata": {
        "colab": {
          "base_uri": "https://localhost:8080/"
        },
        "id": "GpfxiCVpdY4a",
        "outputId": "a64b7769-07f0-40c2-d000-0ab662629e38"
      },
      "execution_count": 53,
      "outputs": [
        {
          "output_type": "stream",
          "name": "stdout",
          "text": [
            "(-10, 0)\n"
          ]
        }
      ]
    },
    {
      "cell_type": "code",
      "source": [
        "def get_distance(self,other_rocket):\n",
        "  x_diff = self.x - other_rocket.x\n",
        "  y_diff = self.y - other_rocket.y\n",
        "  distance = (x_diff**2 + y_diff**2)**0.5\n",
        "  return round(distance,3)\n",
        "rocket4 = Rocket(-10,0)\n",
        "print (f\"{rocket4.x,rocket4.y}\")\n",
        "rocket5 = Rocket(0,0)\n",
        "print (f\"{rocket5.x,rocket5.y}\")\n",
        "distance_45 = rocket5.get_distance(rocket4)\n",
        "print (f\"the distance between rocket 4 wrt rocket 5 {distance_45}(3dp)\")"
      ],
      "metadata": {
        "colab": {
          "base_uri": "https://localhost:8080/",
          "height": 228
        },
        "id": "Uoo20pKgdkNu",
        "outputId": "70eeae96-d179-4633-b5c9-f656bfa1d49c"
      },
      "execution_count": 61,
      "outputs": [
        {
          "output_type": "stream",
          "name": "stdout",
          "text": [
            "(-10, 0)\n",
            "(0, 0)\n"
          ]
        },
        {
          "output_type": "error",
          "ename": "AttributeError",
          "evalue": "'Rocket' object has no attribute 'get_distance'",
          "traceback": [
            "\u001b[0;31m---------------------------------------------------------------------------\u001b[0m",
            "\u001b[0;31mAttributeError\u001b[0m                            Traceback (most recent call last)",
            "\u001b[0;32m<ipython-input-61-e8609aa271c6>\u001b[0m in \u001b[0;36m<cell line: 10>\u001b[0;34m()\u001b[0m\n\u001b[1;32m      8\u001b[0m \u001b[0mrocket5\u001b[0m \u001b[0;34m=\u001b[0m \u001b[0mRocket\u001b[0m\u001b[0;34m(\u001b[0m\u001b[0;36m0\u001b[0m\u001b[0;34m,\u001b[0m\u001b[0;36m0\u001b[0m\u001b[0;34m)\u001b[0m\u001b[0;34m\u001b[0m\u001b[0;34m\u001b[0m\u001b[0m\n\u001b[1;32m      9\u001b[0m \u001b[0mprint\u001b[0m \u001b[0;34m(\u001b[0m\u001b[0;34mf\"{rocket5.x,rocket5.y}\"\u001b[0m\u001b[0;34m)\u001b[0m\u001b[0;34m\u001b[0m\u001b[0;34m\u001b[0m\u001b[0m\n\u001b[0;32m---> 10\u001b[0;31m \u001b[0mdistance_45\u001b[0m \u001b[0;34m=\u001b[0m \u001b[0mrocket5\u001b[0m\u001b[0;34m.\u001b[0m\u001b[0mget_distance\u001b[0m\u001b[0;34m(\u001b[0m\u001b[0mrocket4\u001b[0m\u001b[0;34m)\u001b[0m\u001b[0;34m\u001b[0m\u001b[0;34m\u001b[0m\u001b[0m\n\u001b[0m\u001b[1;32m     11\u001b[0m \u001b[0mprint\u001b[0m \u001b[0;34m(\u001b[0m\u001b[0;34mf\"the distance between rocket 4 wrt rocket 5 {distance_45}(3dp)\"\u001b[0m\u001b[0;34m)\u001b[0m\u001b[0;34m\u001b[0m\u001b[0;34m\u001b[0m\u001b[0m\n",
            "\u001b[0;31mAttributeError\u001b[0m: 'Rocket' object has no attribute 'get_distance'"
          ]
        }
      ]
    },
    {
      "source": [
        "class Rocket:\n",
        "    def __init__(self, x=0, y=0):\n",
        "        self.x = x\n",
        "        self.y = y\n",
        "\n",
        "    def move(self, x_increment=0, y_increment=1):  # Rename the function to 'move'\n",
        "        self.y += y_increment\n",
        "        self.x += x_increment\n",
        "\n",
        "    def get_distance(self, other_rocket):  # Indent the function and add 'self' as the first argument\n",
        "        x_diff = self.x - other_rocket.x\n",
        "        y_diff = self.y - other_rocket.y\n",
        "        distance = (x_diff**2 + y_diff**2)**0.5\n",
        "        return round(distance,3)\n",
        "\n",
        "\n",
        "\n",
        "rocket4 = Rocket(-10,0)\n",
        "print (f\"{rocket4.x,rocket4.y}\")\n",
        "rocket5 = Rocket(0,0)\n",
        "print (f\"{rocket5.x,rocket5.y}\")\n",
        "distance45 = rocket5.get_distance(rocket4)\n",
        "print (f\"the distance between rocket 4 wrt rocket 5 {distance45}(3dp)\")"
      ],
      "cell_type": "code",
      "metadata": {
        "colab": {
          "base_uri": "https://localhost:8080/"
        },
        "id": "KOcwMC20e6xv",
        "outputId": "bf03dc33-42f2-4fdb-a309-59b340a3004e"
      },
      "execution_count": 62,
      "outputs": [
        {
          "output_type": "stream",
          "name": "stdout",
          "text": [
            "(-10, 0)\n",
            "(0, 0)\n",
            "the distance between rocket 4 wrt rocket 5 10.0(3dp)\n"
          ]
        }
      ]
    }
  ]
}